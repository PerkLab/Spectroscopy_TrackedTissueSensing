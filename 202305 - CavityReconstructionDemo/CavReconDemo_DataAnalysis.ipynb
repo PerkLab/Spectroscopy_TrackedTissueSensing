{
 "cells": [
  {
   "attachments": {},
   "cell_type": "markdown",
   "id": "7ec0cde3",
   "metadata": {},
   "source": [
    "### Imports"
   ]
  },
  {
   "cell_type": "code",
   "execution_count": 1,
   "id": "d5fee241",
   "metadata": {},
   "outputs": [],
   "source": [
    "# Import all of the requried libraries\n",
    "import numpy as np\n",
    "import SimpleITK as sitk\n",
    "import matplotlib.pyplot as plt\n",
    "import pandas as pd\n",
    "# import statistics\n",
    "from statistics import mode,mean\n",
    "from scipy import interpolate\n",
    "import os\n",
    "import json\n",
    "import time\n",
    "\n",
    "# These are all of the libraries that I manually created\n",
    "\n",
    "# import IOfunctions as IO\n",
    "# import GUIfunctions as GUI\n",
    "# import Processfunctions as process\n",
    "\n",
    "# Through 3D slicer\n",
    "# start_index = 0 # starts at 195nm\n",
    "# start_index = 742 # starts at 350nm\n",
    "start_index = 790 # starts at 360nm\n",
    "# start_index = 1070 # starts at 420nm\n",
    "\n"
   ]
  },
  {
   "attachments": {},
   "cell_type": "markdown",
   "id": "cff5d15b",
   "metadata": {},
   "source": [
    "## Data Loading and Formatting \n"
   ]
  },
  {
   "cell_type": "markdown",
   "id": "b4a8020e",
   "metadata": {},
   "source": [
    "#### Load, Format, and Save data"
   ]
  },
  {
   "cell_type": "code",
   "execution_count": 17,
   "id": "ea877aef",
   "metadata": {},
   "outputs": [
    {
     "name": "stdout",
     "output_type": "stream",
     "text": [
      "Loading in:  C:/Spectroscopy_TrackedTissueSensing/NassirDemo/data/Apr13/PatientA\\Normal\n",
      "Loading in:  C:/Spectroscopy_TrackedTissueSensing/NassirDemo/data/Apr13/PatientA\\Cancer\n"
     ]
    }
   ],
   "source": [
    "# This function combines loading the data with \n",
    "def loadDataset(dataPath,start_index=790,end_index=-1,sep=','):\n",
    "    Dataset = []\n",
    "    print(\"Loading in: \", dataPath)\n",
    "    for name in os.listdir(dataPath):\n",
    "        df = pd.read_csv(os.path.join(dataPath,name), sep=sep,engine='python', header=None)\n",
    "        df = df.iloc[:, start_index:]\n",
    "        data_arr = df.to_numpy()\n",
    "        spectrum_arr = data_arr[1:, 1:]\n",
    "        wavelength_arr = data_arr[0, 1:]\n",
    "    return spectrum_arr,wavelength_arr\n",
    "\n",
    "# LOADING DATASET \n",
    "FORMAT_DATASET = True\n",
    "dataset_name = 'BreastPhantom_Nassir'\n",
    "trialPath = \"C:/Spectroscopy_TrackedTissueSensing/NassirDemo/data/Apr13/PatientA\"\n",
    "class0_name = 'Normal'\n",
    "class1_name = 'Cancer'\n",
    "dataPath0 = os.path.join(trialPath,class0_name)\n",
    "dataPath1 = os.path.join(trialPath,class1_name)\n",
    "\n",
    "# Load in the data\n",
    "data_0, wavelength = loadDataset(dataPath0,start_index=start_index, sep=',')\n",
    "labels0 = 0*np.ones(len(data_0))\n",
    "data_1, wavelength = loadDataset(dataPath1,start_index=start_index, sep=',')\n",
    "labels1 = 1*np.ones(len(data_1))"
   ]
  },
  {
   "attachments": {},
   "cell_type": "markdown",
   "id": "70a800bc",
   "metadata": {},
   "source": [
    "## Visualization Trials"
   ]
  },
  {
   "attachments": {},
   "cell_type": "markdown",
   "id": "942371e9",
   "metadata": {},
   "source": [
    "### Split data"
   ]
  },
  {
   "cell_type": "code",
   "execution_count": 18,
   "id": "6a2e7206",
   "metadata": {},
   "outputs": [
    {
     "name": "stdout",
     "output_type": "stream",
     "text": [
      "Normal data shape:  (146, 2858)\n",
      "Cancer data shape:  (124, 2858)\n",
      "Normal labels:  (146,)\n",
      "Cancer labels:  (124,)\n"
     ]
    }
   ],
   "source": [
    "print('Normal data shape: ',data_0.shape)\n",
    "print('Cancer data shape: ',data_1.shape)\n",
    "# print the labels shape\n",
    "print('Normal labels: ',labels0.shape)\n",
    "print('Cancer labels: ',labels1.shape)\n"
   ]
  },
  {
   "attachments": {},
   "cell_type": "markdown",
   "id": "d7c74cf1",
   "metadata": {},
   "source": [
    "### Display the raw data"
   ]
  },
  {
   "cell_type": "code",
   "execution_count": 20,
   "id": "23590877",
   "metadata": {
    "scrolled": false
   },
   "outputs": [
    {
     "ename": "IndexError",
     "evalue": "too many indices for array: array is 2-dimensional, but 3 were indexed",
     "output_type": "error",
     "traceback": [
      "\u001b[1;31m---------------------------------------------------------------------------\u001b[0m",
      "\u001b[1;31mIndexError\u001b[0m                                Traceback (most recent call last)",
      "\u001b[1;32mc:\\Spectroscopy_TrackedTissueSensing\\NassirDemo\\NassirDemo_DataAnalysis.ipynb Cell 13\u001b[0m in \u001b[0;36m<cell line: 4>\u001b[1;34m()\u001b[0m\n\u001b[0;32m      <a href='vscode-notebook-cell:/c%3A/Spectroscopy_TrackedTissueSensing/NassirDemo/NassirDemo_DataAnalysis.ipynb#X21sZmlsZQ%3D%3D?line=0'>1</a>\u001b[0m \u001b[39m# Displaying all of the spectra to visually inspect results\u001b[39;00m\n\u001b[0;32m      <a href='vscode-notebook-cell:/c%3A/Spectroscopy_TrackedTissueSensing/NassirDemo/NassirDemo_DataAnalysis.ipynb#X21sZmlsZQ%3D%3D?line=1'>2</a>\u001b[0m \n\u001b[0;32m      <a href='vscode-notebook-cell:/c%3A/Spectroscopy_TrackedTissueSensing/NassirDemo/NassirDemo_DataAnalysis.ipynb#X21sZmlsZQ%3D%3D?line=2'>3</a>\u001b[0m \u001b[39m# This should be in GUI with all the inputs as parameters\u001b[39;00m\n\u001b[1;32m----> <a href='vscode-notebook-cell:/c%3A/Spectroscopy_TrackedTissueSensing/NassirDemo/NassirDemo_DataAnalysis.ipynb#X21sZmlsZQ%3D%3D?line=3'>4</a>\u001b[0m wavelength_start \u001b[39m=\u001b[39m data_0[\u001b[39m0\u001b[39;49m,\u001b[39m0\u001b[39;49m,\u001b[39m0\u001b[39;49m]\n\u001b[0;32m      <a href='vscode-notebook-cell:/c%3A/Spectroscopy_TrackedTissueSensing/NassirDemo/NassirDemo_DataAnalysis.ipynb#X21sZmlsZQ%3D%3D?line=4'>5</a>\u001b[0m wavelength_end \u001b[39m=\u001b[39m data_0[\u001b[39m0\u001b[39m,\u001b[39m-\u001b[39m\u001b[39m1\u001b[39m,\u001b[39m0\u001b[39m]\n\u001b[0;32m      <a href='vscode-notebook-cell:/c%3A/Spectroscopy_TrackedTissueSensing/NassirDemo/NassirDemo_DataAnalysis.ipynb#X21sZmlsZQ%3D%3D?line=6'>7</a>\u001b[0m w \u001b[39m=\u001b[39m np\u001b[39m.\u001b[39mlinspace(wavelength_start,wavelength_end,\u001b[39mlen\u001b[39m(data_0[\u001b[39m1\u001b[39m]))\n",
      "\u001b[1;31mIndexError\u001b[0m: too many indices for array: array is 2-dimensional, but 3 were indexed"
     ]
    }
   ],
   "source": [
    "# Displaying all of the spectra to visually inspect results\n",
    "\n",
    "# This should be in GUI with all the inputs as parameters\n",
    "wavelength_start = data_0[0,0,0]\n",
    "wavelength_end = data_0[0,-1,0]\n",
    "\n",
    "w = np.linspace(wavelength_start,wavelength_end,len(data_0[1]))\n",
    "# # Display an example of data_0\n",
    "GUI.plotSpectra(xdata=data_0[0,:,0],ydata=data_0[0,:,1],xlab='Wavelength(nm)',ylab='Reflected Intensity',\n",
    "                title='Unprocessed data_0 Spectrum')\n",
    "# Display an example of data_1\n",
    "GUI.plotSpectra(xdata=data_1[0,:,0], ydata=data_1[0,:,1],xlab='Wavelength(nm)',ylab='Reflected Intensity',\n",
    "                title='Unprocessed data_1 Spectrum' )\n",
    "\n"
   ]
  },
  {
   "cell_type": "code",
   "execution_count": null,
   "id": "d76c5d06",
   "metadata": {},
   "outputs": [],
   "source": [
    "# Function to plot all the spectra\n",
    "def plotAll(data,title='', xtitle='', ytitle=''):\n",
    "    plt.figure()\n",
    "    for i in range(len(data)):\n",
    "        plt.plot(data[i,:,0],data[i,:,1])\n",
    "    plt.title(title)\n",
    "    plt.xlabel(xtitle)\n",
    "    plt.ylabel(ytitle)\n",
    "\n",
    "\n",
    "def plotWColourMap(data, title, xlabel, ylabel, step=1):\n",
    "    \"\"\"\n",
    "    Plot all samples of class1 on a single figure using a colour map to denote chronological order.\n",
    "\n",
    "    Args:\n",
    "    - data (ndarray): a 3D array of shape (num_samples, num_wavelengths, 2) containing the spectral data\n",
    "    - title (str): the title of the plot\n",
    "    - xlabel (str): the label of the x-axis\n",
    "    - ylabel (str): the label of the y-axis\n",
    "\n",
    "    Returns:\n",
    "    - None\n",
    "    \"\"\"\n",
    "\n",
    "    # create the colour map\n",
    "    cmap = plt.get_cmap('viridis')\n",
    "\n",
    "    # plot the data with the colour map\n",
    "    plt.figure()\n",
    "    for i in range(len(data)-1):\n",
    "        # plot every third spectra\n",
    "        if i%step == 0:\n",
    "            plt.scatter(data[i,:,0], data[i,:,1], s=0.1, c=cmap(i/len(data)))\n",
    "\n",
    "    # add a color bar\n",
    "    sm = plt.cm.ScalarMappable(cmap=cmap)\n",
    "    sm.set_array([])\n",
    "    plt.colorbar(sm)\n",
    "\n",
    "    plt.title(title)\n",
    "    plt.xlabel(xlabel)\n",
    "    plt.ylabel(ylabel)\n"
   ]
  },
  {
   "cell_type": "code",
   "execution_count": null,
   "metadata": {},
   "outputs": [],
   "source": [
    "# Plot all samples of class0 on a single figure without using plotSpectra\n",
    "plotAll(data_0,'All normal Spectra','Wavelength[nm]','Reflected Intensity')\n",
    "\n",
    "# Plot all samples of class1 on a single figure without using plotSpectra\n",
    "plotAll(data_1,'All cancer Spectra','Wavelength[nm]','Reflected Intensity')\n",
    "\n",
    "# GUI.plotSpectra(xdata=data_1[0,:,0], ydata=data_1[0,:,1],xlab='Wavelength(nm)',ylab='Reflected Intensity',\n",
    "#                 title='Unprocessed data_1 Spectrum' )\n"
   ]
  },
  {
   "cell_type": "code",
   "execution_count": null,
   "id": "b468005c",
   "metadata": {},
   "outputs": [],
   "source": [
    "# PLOT the location of the max point for each spectrum\n",
    "def plotMax(data, title, xlabel, ylabel):\n",
    "    \"\"\"\n",
    "    Plot the location of the max point for each spectrum.\n",
    "\n",
    "    Args:\n",
    "    - data (ndarray): a 3D array of shape (num_samples, num_wavelengths, 2) containing the spectral data\n",
    "    - title (str): the title of the plot\n",
    "    - xlabel (str): the label of the x-axis\n",
    "    - ylabel (str): the label of the y-axis\n",
    "\n",
    "    Returns:\n",
    "    - None\n",
    "    \"\"\"\n",
    "\n",
    "    # find the max point for each spectrum\n",
    "    max_points_indices = np.argmax(data[:,:,1], axis=1)\n",
    "    # Find the corresponding wavelength\n",
    "    max_points = data[:,max_points_indices,0]\n",
    "    # plot the max points\n",
    "    SampleNumber = range(len(data))\n",
    "    plt.figure()\n",
    "    plt.scatter(max_points[0],range(len(data)))\n",
    "    plt.title(title)\n",
    "    plt.xlabel(xlabel)\n",
    "    plt.ylabel(ylabel)\n",
    "    # change the range of the x-axis\n",
    "    plt.xlim(400, 1000)\n",
    "\n",
    "# concatinate the data_0 and data_1\n",
    "d = np.concatenate((data_0, data_1), axis=0)\n",
    "# Plot the location of the max point for each spectrum of class0\n",
    "plotMax(d, 'Max point for all spectra', 'Wavelength index', 'Spectrum number')\n"
   ]
  },
  {
   "cell_type": "code",
   "execution_count": null,
   "id": "c039ac22",
   "metadata": {},
   "outputs": [],
   "source": [
    "# data_0_save = data_0.copy()\n",
    "# data_1_save = data_1.copy()\n",
    "\n",
    "# data_0 = data_0_save.copy()\n",
    "# data_1 = data_1_save.copy()\n"
   ]
  },
  {
   "cell_type": "code",
   "execution_count": null,
   "id": "effa2ce3",
   "metadata": {},
   "outputs": [],
   "source": [
    "# temporayily remove the peak caused by ambient light\n",
    "data_0_new = data_0.copy()\n",
    "data_1_new = data_1.copy()\n",
    "# Set the spectra to zero between 600 and 650 nm\n",
    "# This is to remove the background noise using no functions\n",
    "def removeAmbientLight(data):\n",
    "    start_index = 1110\n",
    "    width = 20\n",
    "    end_index = start_index + width\n",
    "    for i in range(len(data)):\n",
    "        data[i,start_index:end_index,1] = 0\n",
    "    return data\n",
    "\n",
    "data_0_new = removeAmbientLight(data_0_new)\n",
    "data_1_new = removeAmbientLight(data_1_new)\n",
    "\n",
    "# concatinate the data_0 and data_1\n",
    "d = np.concatenate((data_0_new, data_1_new), axis=0)\n",
    "# Plot the location of the max point for each spectrum of class0\n",
    "plotMax(d, 'Max point for all spectra with ambient peak removed', 'Wavelength index', 'Spectrum number')"
   ]
  },
  {
   "attachments": {},
   "cell_type": "markdown",
   "id": "ab875077",
   "metadata": {},
   "source": [
    "### Preprocessing of the data\n",
    "* Normalize so peak is 1\n",
    "* Crop to 360nm to 1024nm\n",
    "* Divide by the broadband output"
   ]
  },
  {
   "cell_type": "code",
   "execution_count": null,
   "id": "9da308e4",
   "metadata": {},
   "outputs": [],
   "source": [
    "# Normalize the data\n",
    "data_0_norm = data_0_new.copy()\n",
    "data_1_norm = data_1_new.copy()\n",
    "data_0_norm = process.normalize(data_0_norm)\n",
    "data_1_norm = process.normalize(data_1_norm)\n",
    "\n",
    "# Plot them again\n",
    "# Plot all samples of class0 on a single figure without using plotSpectra\n",
    "plt.figure()\n",
    "for i in range(len(data_0_norm)):\n",
    "    plt.scatter(data_0_norm[i,:,0] ,data_0_norm[i,:,1],s=0.1)\n",
    "plt.title('All normal Spectra (MinMax Normalized))')\n",
    "plt.xlabel('Wavelength[nm]')\n",
    "plt.ylabel('Reflected Intensity')\n",
    "\n",
    "# Plot all samples of class1 on a single figure without using plotSpectra\n",
    "plt.figure()\n",
    "for i in range(len(data_1_norm)):\n",
    "    plt.scatter(data_1_norm[i,:,0],data_1_norm[i,:,1],s=0.5)\n",
    "plt.title('All cancer Spectra (MinMax Normalized)')\n",
    "plt.xlabel('Wavelength[nm]')\n",
    "plt.ylabel('Reflected Intensity')\n",
    "\n",
    "# # plot one cancer and one normal spectrum on a scatter plot\n",
    "# plt.figure()\n",
    "# plt.scatter(data_0_norm[0,:,0],data_0_norm[0,:,1],s=0.5)\n",
    "# plt.scatter(data_1_norm[0,:,0],data_1_norm[0,:,1],s=0.5)\n",
    "# plt.title('One cancer and one normal spectrum [MinMax Normalized]')\n",
    "# plt.xlabel('Wavelength[nm]')\n",
    "# plt.ylabel('Reflected Intensity')\n",
    "# plt.legend(['Normal','Cancer'])"
   ]
  },
  {
   "cell_type": "code",
   "execution_count": null,
   "id": "b670be60",
   "metadata": {},
   "outputs": [],
   "source": [
    "# # Plot each spectra using a color map to show how the spectra change over time\n",
    "# # This is to see if there is any pattern in the spectra\n",
    "# # use scatter plot to show the data points\n",
    "\n",
    "# # create the colour map\n",
    "# cmap = plt.get_cmap('viridis')\n",
    "\n",
    "# # plot the data with the colour map\n",
    "# plt.figure()\n",
    "# for i in range(len(data_1_norm)-1):\n",
    "#     plt.scatter(data_1_norm[i,:,0],data_1_norm[i,:,1],s=0.1,c=cmap(i/len(data_1_norm)))\n",
    "\n",
    "# # add a color bar\n",
    "# sm = plt.cm.ScalarMappable(cmap=cmap)\n",
    "# sm.set_array([])\n",
    "# plt.colorbar(sm)\n",
    "\n",
    "# plt.title('All normal Spectra (MinMax Normalized)')\n",
    "# plt.xlabel('Wavelength[nm]')\n",
    "# plt.ylabel('Reflected Intensity')\n",
    "\n",
    "\n"
   ]
  },
  {
   "cell_type": "code",
   "execution_count": null,
   "id": "73e46916",
   "metadata": {
    "scrolled": true
   },
   "outputs": [],
   "source": [
    "FLAG_Baseline = True\n",
    "# Load in the baseline \n",
    "baseline = baseline_BrOut # --------------------------------- flag\n",
    "baseline = process.normalize(baseline)[:,1]\n",
    "\n",
    "data_0_norm = data_0_new[:,280:,:].copy()\n",
    "data_1_norm = data_1_new[:,280:,:].copy()\n",
    "baseline = baseline[280:].copy()\n",
    "tFunc = baseline\n",
    "\n",
    "def divTfuc(inputData,tFunc, flag):    \n",
    "    outputData = inputData.copy()\n",
    "    if FLAG_Baseline:\n",
    "        # For each spectra\n",
    "        for i in range (inputData[:,:,1].shape[0]):\n",
    "            data = inputData[i,:,1]\n",
    "            # Divide by the baseline transfer function\n",
    "            outputData[i,:,1] = data / tFunc \n",
    "    outputData = process.normalize(outputData)\n",
    "    return outputData\n",
    "# call the function\n",
    "data_0_norm_T = divTfuc(data_0_norm,tFunc, FLAG_Baseline)\n",
    "data_1_norm_T = divTfuc(data_1_norm,tFunc, FLAG_Baseline)\n",
    "# Display the arguemtns and output\n",
    "freq = data_0_norm[0,:,0]\n",
    "\n",
    "# Plot all samples of class0 on a single figure without using plotSpectra\n",
    "# assuming data_1_norm_T is the input data array\n",
    "plotWColourMap(data_0_norm_T, 'All Normal Spectra (Tfunc Norm)', 'Wavelength[nm]', 'Reflected Intensity', )\n",
    "\n",
    "# Plot all samples of class1 on a single figure using a colour map to denote chronilogical order\n",
    "# assuming data_1_norm_T is the input data array\n",
    "plotWColourMap(data_1_norm_T, 'All cancer Spectra (Tfunc Norm)', 'Wavelength[nm]', 'Reflected Intensity')\n",
    "\n",
    "\n",
    "# plot the average of the cancer spectra and the average of the normal spectra on a scatter plot\n",
    "plt.figure()\n",
    "plt.scatter(data_0_norm_T[:,:,0].mean(axis=0),data_0_norm_T[:,:,1].mean(axis=0),s=0.5)\n",
    "plt.scatter(data_1_norm_T[:,:,0].mean(axis=0),data_1_norm_T[:,:,1].mean(axis=0),s=0.5)\n",
    "plt.title('Average cancer and normal spectra [Divided by broad band]')\n",
    "plt.xlabel('Wavelength[nm]')\n",
    "plt.ylabel('Reflected Intensity')\n",
    "plt.legend(['Normal','Cancer'])"
   ]
  },
  {
   "cell_type": "code",
   "execution_count": null,
   "id": "5dc29ad1",
   "metadata": {
    "scrolled": false
   },
   "outputs": [],
   "source": [
    "data_0_norm = data_0_norm_T\n",
    "data_1_norm = data_1_norm_T\n",
    "\n",
    "# # Plots of the normalized spectra\n",
    "# GUI.plotSpectra(xdata=data_0_norm[0,:,0],ydata=data_0_norm[0,:,1],xlab='Wavelength(nm)',ylab='Reflected Intensity',\n",
    "#                 title='Normalized data_0 Spectrum' )\n",
    "# GUI.plotSpectra(xdata=data_1_norm[0,:,0],ydata=data_1_norm[0,:,1],xlab='Wavelength(nm)',ylab='Reflected Intensity',\n",
    "#                 title='Normalized data_1 Spectrum' )"
   ]
  },
  {
   "cell_type": "code",
   "execution_count": null,
   "id": "aaba080a",
   "metadata": {},
   "outputs": [],
   "source": [
    "# labels1\n",
    "# # reindex the labels\n",
    "# labels1 = labels1.reset_index(drop=True)\n",
    "# # get the index of cancer\n",
    "# # cancer_index = labels1[labels1['label'] == 1].index\n"
   ]
  },
  {
   "cell_type": "code",
   "execution_count": null,
   "metadata": {},
   "outputs": [],
   "source": []
  },
  {
   "attachments": {},
   "cell_type": "markdown",
   "id": "e3c89f22",
   "metadata": {},
   "source": [
    "## Preprocessing Pipeline"
   ]
  },
  {
   "cell_type": "code",
   "execution_count": null,
   "id": "81d295aa",
   "metadata": {},
   "outputs": [],
   "source": [
    "Dataset_df\n",
    "# Extract the data from the dataframe\n",
    "data = np.array(Dataset_df['Data'].tolist())\n",
    "#pritn the shape of the data\n",
    "print('Dimensions of the data: ',np.shape(data))\n",
    "# Normalize the data\n",
    "data = process.normalize(data)\n",
    "# Remove ambient light peak\n",
    "data = removeAmbientLight(data)[:,280:,:] # I need to ravamp this function to use the data to remove the ambient light\n",
    "# Divide by the baseline transfer function\n",
    "processed_data = divTfuc(data,tFunc, FLAG_Baseline)\n",
    "# Turn the processed data into a singe data column in a dataframe\n",
    "data_df = pd.DataFrame()\n",
    "for i in range(processed_data.shape[0]):\n",
    "    new_row = {'Data_preprocessed':processed_data[i,:,:]}\n",
    "    data_df = pd.concat([data_df, pd.DataFrame([new_row])], ignore_index=True)\n",
    "# Add the data to the dataframe\n",
    "processedData_df = pd.concat([Dataset_df, data_df], axis=1)\n"
   ]
  },
  {
   "attachments": {},
   "cell_type": "markdown",
   "id": "d13263c3",
   "metadata": {},
   "source": [
    "## Trials"
   ]
  },
  {
   "cell_type": "markdown",
   "id": "1fe25e27",
   "metadata": {},
   "source": [
    "### PCA fitting"
   ]
  },
  {
   "cell_type": "code",
   "execution_count": null,
   "id": "01156852",
   "metadata": {},
   "outputs": [],
   "source": [
    "from sklearn.decomposition import PCA\n",
    "# Get the data from the dataframe\n",
    "data = np.array(processedData_df['Data_preprocessed'].tolist())[:,:,1]\n",
    "# Create the PCA object\n",
    "pca = PCA(n_components=3)\n",
    "# Fit the PCA object to the data\n",
    "pca.fit(data)\n",
    "# Transform the data\n",
    "data_pca = pca.fit_transform(data)\n",
    "# Create a dataframe with the PCA data\n",
    "data_pca_df = pd.DataFrame(data_pca, columns=['PCA1','PCA2','PCA3'])\n",
    "# Add the PCA data to the dataframe\n",
    "data_pca_df = pd.concat([processedData_df, data_pca_df], axis=1)\n",
    "data_pca_df"
   ]
  },
  {
   "attachments": {},
   "cell_type": "markdown",
   "id": "474e9935",
   "metadata": {},
   "source": [
    "### PCA - Class separation"
   ]
  },
  {
   "cell_type": "code",
   "execution_count": null,
   "id": "4e40e7bd",
   "metadata": {},
   "outputs": [],
   "source": [
    "# Plotting parameters\n",
    "a = 5\n",
    "figsize = (a,a)\n",
    "fontLabel = 15\n",
    "fontTitle = int(fontLabel*1.25)\n",
    "# All scatter plot color options: https://matplotlib.org/3.1.0/gallery/color/named_colors.html\n",
    "\n",
    "# 2D PCA: Cancer vs Normal\n",
    "labels = [0,1]\n",
    "colours = ['g','tab:orange']\n",
    "plt.figure(figsize=figsize)\n",
    "for label, colour in zip(labels,colours):\n",
    "    plt.scatter(data_pca_df[data_pca_df['Label (numeric)'] == label]['PCA1'],data_pca_df[data_pca_df['Label (numeric)'] == label]['PCA2'],c = colour,s=25)\n",
    "    # plt.scatter(data_pca_df[data_pca_df['Label (numeric)'] == 1]['PCA1'],data_pca_df[data_pca_df['Label (numeric)'] == 1]['PCA2'],c = colour,s=25)\n",
    "plt.title('2D PCA: Cancer vs Normal', fontsize=fontTitle)\n",
    "plt.xlabel('PCA1', fontsize=fontLabel)\n",
    "plt.ylabel('PCA2', fontsize=fontLabel)\n",
    "plt.legend(['Normal','Cancer'], fontsize=fontLabel)\n",
    "\n",
    "# 3D PCA: Cancer vs Normal\n",
    "labels = [0,1]\n",
    "colours = ['g','tab:orange']\n",
    "fig = plt.figure(figsize=figsize)\n",
    "ax = fig.add_subplot(111, projection='3d')\n",
    "for label, colour in zip(labels,colours):\n",
    "    ax.scatter(data_pca_df[data_pca_df['Label (numeric)'] == label]['PCA1'],data_pca_df[data_pca_df['Label (numeric)'] == label]['PCA2'],data_pca_df[data_pca_df['Label (numeric)'] == label]['PCA3'],c = colour,s=25)\n",
    "    # plt.scatter(data_pca_df[data_pca_df['Label (numeric)'] == 1]['PCA1'],data_pca_df[data_pca_df['Label (numeric)'] == 1]['PCA2'],c = colour,s=25)\n",
    "ax.set_title('3D PCA: Cancer vs Normal', fontsize=fontTitle)\n",
    "ax.set_xlabel('PCA1', fontsize=fontLabel)\n",
    "ax.set_ylabel('PCA2', fontsize=fontLabel)\n",
    "ax.set_zlabel('PCA3', fontsize=fontLabel)\n",
    "ax.legend(['Normal','Cancer'], fontsize=fontLabel)\n",
    "\n",
    "# 2D PCA: all classes in the dataset\n",
    "# get the unique labels\n",
    "labels = np.unique(data_pca_df['Label'])\n",
    "colours = ['tab:orange','tab:red','tab:pink','tab:purple','g']\n",
    "plt.figure(figsize=figsize)\n",
    "for label, colour in zip(labels,colours):\n",
    "    print('here')\n",
    "    plt.scatter(data_pca_df[data_pca_df['Label'] == label]['PCA1'],data_pca_df[data_pca_df['Label'] == label]['PCA2'],c=colour,s=25)\n",
    "plt.title('2D PCA: all classes in the dataset', fontsize=fontTitle)\n",
    "plt.xlabel('PCA1', fontsize=fontLabel)\n",
    "plt.ylabel('PCA2', fontsize=fontLabel)\n",
    "plt.legend(labels, fontsize=fontLabel)\n",
    "\n",
    "# 3D PCA: all classes in the dataset\n",
    "# get the unique labels\n",
    "labels = np.unique(data_pca_df['Label'])\n",
    "colours = ['tab:orange','tab:red','tab:pink','tab:purple','g']\n",
    "fig = plt.figure(figsize=figsize)\n",
    "ax = fig.add_subplot(111, projection='3d')\n",
    "for label, colour in zip(labels,colours):\n",
    "    ax.scatter(data_pca_df[data_pca_df['Label'] == label]['PCA1'],data_pca_df[data_pca_df['Label'] == label]['PCA2'],data_pca_df[data_pca_df['Label'] == label]['PCA3'],c=colour,s=25)\n",
    "ax.set_title('3D PCA: all classes in the dataset', fontsize=fontTitle)\n",
    "ax.set_xlabel('PCA1', fontsize=fontLabel)\n",
    "ax.set_ylabel('PCA2', fontsize=fontLabel)\n",
    "ax.set_zlabel('PCA3', fontsize=fontLabel)\n",
    "ax.legend(labels, fontsize=fontLabel)"
   ]
  },
  {
   "cell_type": "markdown",
   "id": "fe2a552a",
   "metadata": {},
   "source": [
    "### PCA: Sample separation"
   ]
  },
  {
   "cell_type": "code",
   "execution_count": null,
   "id": "7e908b86",
   "metadata": {},
   "outputs": [],
   "source": [
    "# 2D PCA: Sample1 vs Sample2 vs Sample3\n",
    "# get the unique labels\n",
    "labels = np.unique(data_pca_df['SampleID'])\n",
    "colours = ['tab:orange','tab:orange','tab:red','tab:red','tab:pink','tab:pink']\n",
    "fig = plt.figure(figsize=figsize)\n",
    "ax = fig.add_subplot(111)\n",
    "for label, colour in zip(labels,colours):\n",
    "    ax.scatter(data_pca_df[data_pca_df['SampleID'] == label]['PCA1'],data_pca_df[data_pca_df['SampleID'] == label]['PCA2'],c=colour,s=50)\n",
    "ax.set_title('2D PCA: Sample1 vs Sample2 vs Sample3', fontsize=fontTitle)\n",
    "ax.set_xlabel('PCA1', fontsize=fontLabel)\n",
    "ax.set_ylabel('PCA2', fontsize=fontLabel)\n",
    "ax.legend(labels, fontsize=fontLabel)\n",
    "\n",
    "# 3D PCA: Sample1 vs Sample2 vs Sample3\n",
    "# get the unique labels\n",
    "labels = np.unique(data_pca_df['SampleID'])\n",
    "colours = ['tab:orange','tab:purple','tab:red','tab:pink','tab:blue','tab:green']\n",
    "fig = plt.figure(figsize=figsize)\n",
    "ax = fig.add_subplot(111, projection='3d')\n",
    "for label, colour in zip(labels,colours):\n",
    "    ax.scatter(data_pca_df[data_pca_df['SampleID'] == label]['PCA1'],data_pca_df[data_pca_df['SampleID'] == label]['PCA2'],data_pca_df[data_pca_df['SampleID'] == label]['PCA3'],c=colour,s=50)\n",
    "ax.set_title('3D PCA: Sample1 vs Sample2 vs Sample3', fontsize=fontTitle)\n",
    "ax.set_xlabel('PCA1', fontsize=fontLabel)\n",
    "ax.set_ylabel('PCA2', fontsize=fontLabel)\n",
    "ax.set_zlabel('PCA3', fontsize=fontLabel)\n",
    "ax.legend(labels, fontsize=fontLabel)\n"
   ]
  },
  {
   "cell_type": "markdown",
   "id": "cd6492ad",
   "metadata": {},
   "source": []
  },
  {
   "cell_type": "code",
   "execution_count": null,
   "id": "a6b39357",
   "metadata": {},
   "outputs": [],
   "source": [
    "# Perform PCA on the data to scale it down to 2 dimensions\n",
    "from sklearn.decomposition import PCA\n",
    "pca = PCA(n_components=2)\n",
    "# concatenate the data\n",
    "data = np.concatenate((data_0_norm,data_1_norm),axis=0)\n",
    "print(data.shape)\n",
    "\n",
    "pca.fit(data[:,:,1])\n",
    "data_0_pca = pca.transform(data_0_norm[:,:,1])\n",
    "data_1_pca = pca.transform(data_1_norm[:,:,1])\n",
    "\n",
    "# Plot the PCA data separated by cancer and normal\n",
    "plot_title = 'PCA'\n",
    "plt.figure()\n",
    "plt.scatter(data_0_pca[:,0],data_0_pca[:,1],s=25)\n",
    "plt.scatter(data_1_pca[:,0],data_1_pca[:,1],s=25)\n",
    "plt.title(plot_title)\n",
    "plt.xlabel('PCA 1')\n",
    "plt.ylabel('PCA 2')\n",
    "plt.legend(['Cancer','Normal'])\n",
    "# save the plot as a vector graphic\n",
    "plt.savefig('Experiments/PrelimKidney/'+ plot_title + '.svg')\n",
    "\n",
    "# Plot the PCA data separated by sample number\n",
    "plot_title = 'All_Data_PCA'\n",
    "plt.figure()\n",
    "\n"
   ]
  },
  {
   "cell_type": "code",
   "execution_count": null,
   "id": "23ad19db",
   "metadata": {},
   "outputs": [],
   "source": [
    "\n"
   ]
  },
  {
   "attachments": {},
   "cell_type": "markdown",
   "id": "a8309658",
   "metadata": {},
   "source": [
    "### LDA fitting"
   ]
  },
  {
   "cell_type": "code",
   "execution_count": null,
   "id": "fac75cc9",
   "metadata": {},
   "outputs": [],
   "source": [
    "# Proceed with LDA on the data\n",
    "from sklearn.discriminant_analysis import LinearDiscriminantAnalysis\n",
    "\n",
    "# Get the data from the dataframe\n",
    "data = np.array(processedData_df['Data_preprocessed'].tolist())[:,:,1]\n",
    "# Get the labels from the dataframe\n",
    "labels = np.array(processedData_df['Label (numeric)'].tolist())\n",
    "\n",
    "# Create the LDA object\n",
    "lda = LinearDiscriminantAnalysis(n_components=1)\n",
    "# Fit the LDA object to the data and labels\n",
    "lda.fit(data, labels)\n",
    "# Transform the data\n",
    "data_lda = lda.transform(data)\n",
    "print(data_lda.shape)\n",
    "# Create a dataframe with the LDA data\n",
    "data_lda_df = pd.DataFrame(data_lda, columns=['LDA1'])\n",
    "# Add the LDA data to the dataframe\n",
    "data_lda_df = pd.concat([processedData_df, data_lda_df], axis=1)\n",
    "data_lda_df"
   ]
  },
  {
   "cell_type": "markdown",
   "id": "bca6c921",
   "metadata": {},
   "source": [
    "### LDA: Class separation"
   ]
  },
  {
   "cell_type": "code",
   "execution_count": null,
   "metadata": {},
   "outputs": [],
   "source": [
    "# 1D LDA: Cancer vs Normal\n",
    "labels = [0,1]\n",
    "colours = ['g','tab:orange']\n",
    "plt.figure(figsize=[12,3])\n",
    "for label, colour in zip(labels,colours):\n",
    "    plt.scatter(data_lda_df[data_lda_df['Label (numeric)'] == label]['LDA1'],y = np.zeros_like(data_lda_df[data_lda_df['Label (numeric)'] == label]['LDA1']) + 0.,c = colour,s=25)\n",
    "plt.title('1D LDA fitting: Cancer vs Normal', fontsize=fontTitle)\n",
    "plt.xlabel('LDA', fontsize=fontLabel)\n",
    "plt.legend(['Normal','Cancer'], fontsize=fontLabel)\n",
    "\n",
    "# 1D LDA: All classes in the dataset\n",
    "# get the unique labels\n",
    "labels = np.unique(data_lda_df['Label'])\n",
    "colours = ['tab:orange','tab:red','tab:pink','tab:purple','g']\n",
    "plt.figure(figsize=[12,5])\n",
    "for label, colour in zip(labels,colours):\n",
    "    plt.scatter(data_lda_df[data_lda_df['Label'] == label]['LDA1'],y = np.zeros_like(data_lda_df[data_lda_df['Label'] == label]['LDA1']) + 0.,c = colour,s=25)\n",
    "plt.title('1D LDA fitting: all classes in the dataset', fontsize=fontTitle)\n",
    "plt.xlabel('LDA', fontsize=fontLabel)\n",
    "plt.legend(labels, fontsize=fontLabel)"
   ]
  },
  {
   "attachments": {},
   "cell_type": "markdown",
   "id": "43733f8d",
   "metadata": {},
   "source": [
    "### LDA: Sample separation"
   ]
  },
  {
   "cell_type": "code",
   "execution_count": null,
   "id": "19448ac2",
   "metadata": {},
   "outputs": [],
   "source": [
    "# 1D LDA: Sample1 vs Sample2 vs Sample3\n",
    "SeparationIdx = 0\n",
    "SeparationIncrement = 0.05\n",
    "labels = np.unique(data_lda_df['SampleID'])\n",
    "colours = ['tab:orange','tab:orange','tab:red','tab:red','tab:pink','tab:pink']\n",
    "fig = plt.figure(figsize=[12,5])\n",
    "ax = fig.add_subplot(111)\n",
    "for label, colour in zip(labels,colours):\n",
    "    x = data_lda_df[data_lda_df['SampleID'] == label]['LDA1']\n",
    "    y = data_lda_df[data_lda_df['SampleID'] == label]['Label (numeric)']\n",
    "    # Spread out the data for better visibility\n",
    "    y = np.where(y==0,y+SeparationIdx,y-SeparationIdx)\n",
    "    ax.scatter(x,y,c=colour,s=50)\n",
    "    SeparationIdx = SeparationIdx + SeparationIncrement\n",
    "ax.set_title('1D LDA: Sample1 vs Sample2 vs Sample3', fontsize=fontTitle)\n",
    "ax.set_xlabel('LDA1', fontsize=fontLabel)\n",
    "ax.set_ylabel('Label (numeric)', fontsize=fontLabel)\n",
    "ax.legend(labels, fontsize=fontLabel)\n",
    "\n",
    "# 1D LDA: Sample1 vs Sample2 vs Sample3\n",
    "SeparationIdx = 0\n",
    "labels = np.unique(data_lda_df['SampleID'])[1:] # remove the first label\n",
    "print(labels)\n",
    "colours = ['tab:orange','tab:orange','tab:red','tab:red','tab:pink','tab:pink'][1:] # remove the first label\n",
    "print(colours)\n",
    "fig = plt.figure(figsize=[12,5])\n",
    "ax = fig.add_subplot(111)\n",
    "for label, colour in zip(labels,colours):\n",
    "    print(label, colour)\n",
    "    x = data_lda_df[data_lda_df['SampleID'] == label]['LDA1']\n",
    "    y = data_lda_df[data_lda_df['SampleID'] == label]['Label (numeric)']\n",
    "    # if y is 0 add 0.1 else subtract 0.1\n",
    "    y = np.where(y==0,y+SeparationIdx,y-SeparationIdx)\n",
    "    ax.scatter(x,y,c=colour,s=50)\n",
    "    SeparationIdx = SeparationIdx + SeparationIncrement\n",
    "ax.set_title('1D LDA: Sample1 vs Sample2 vs Sample3', fontsize=fontTitle)\n",
    "ax.set_xlabel('LDA1', fontsize=fontLabel)\n",
    "ax.set_ylabel('Label (numeric)', fontsize=fontLabel)\n",
    "ax.legend(labels, fontsize=fontLabel)"
   ]
  },
  {
   "attachments": {},
   "cell_type": "markdown",
   "id": "b3aa1ed8",
   "metadata": {},
   "source": [
    "### t-SNE"
   ]
  },
  {
   "cell_type": "code",
   "execution_count": null,
   "id": "0b60698a",
   "metadata": {},
   "outputs": [],
   "source": [
    "\n"
   ]
  },
  {
   "cell_type": "code",
   "execution_count": null,
   "id": "23f80943",
   "metadata": {},
   "outputs": [],
   "source": []
  },
  {
   "cell_type": "code",
   "execution_count": null,
   "id": "30f52829",
   "metadata": {},
   "outputs": [],
   "source": []
  },
  {
   "cell_type": "code",
   "execution_count": null,
   "id": "32e46bfc",
   "metadata": {},
   "outputs": [],
   "source": []
  },
  {
   "cell_type": "code",
   "execution_count": null,
   "id": "aa4efc1e",
   "metadata": {},
   "outputs": [],
   "source": []
  }
 ],
 "metadata": {
  "kernelspec": {
   "display_name": "Python 3 (ipykernel)",
   "language": "python",
   "name": "python3"
  },
  "language_info": {
   "codemirror_mode": {
    "name": "ipython",
    "version": 3
   },
   "file_extension": ".py",
   "mimetype": "text/x-python",
   "name": "python",
   "nbconvert_exporter": "python",
   "pygments_lexer": "ipython3",
   "version": "3.8.8"
  },
  "vscode": {
   "interpreter": {
    "hash": "84d8cac4d95fdd2ab02498a6ec40a50cb9882041e67cb52e6d8bcfda00d28db9"
   }
  }
 },
 "nbformat": 4,
 "nbformat_minor": 5
}
