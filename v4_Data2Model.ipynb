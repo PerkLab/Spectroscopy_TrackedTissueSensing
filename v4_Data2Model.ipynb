{
 "cells": [
  {
   "cell_type": "code",
   "execution_count": 4,
   "id": "d5fee241",
   "metadata": {},
   "outputs": [],
   "source": [
    "# Import all of the requried libraries\n",
    "import numpy as np\n",
    "import SimpleITK as sitk\n",
    "import matplotlib.pyplot as plt\n",
    "import pandas as pd\n",
    "# import statistics\n",
    "from statistics import mode,mean\n",
    "from scipy import interpolate\n",
    "import os\n",
    "\n",
    "# These are all of the libraries that I manually created\n",
    "import IOfunctions as IO\n",
    "import GUIfunctions as GUI\n",
    "import Processfunctions as process\n",
    "\n",
    "#\n",
    "# Through Thorlabs\n",
    "#\n",
    "# start_index = 32  # Start index 32 is the full spectrum (from 195nm)\n",
    "# start_index = 774 # starts at 350nm\n",
    "#\n",
    "# Through 3D slicer\n",
    "#\n",
    "# start_index = 0 # starts at 195nm\n",
    "# start_index = 742 # starts at 350nm\n",
    "start_index = 790 # starts at 360nm\n",
    "\n"
   ]
  },
  {
   "cell_type": "markdown",
   "id": "cff5d15b",
   "metadata": {},
   "source": [
    "### Data Loading and Formatting \n",
    "#### Load in (IO)\n",
    "* Load in the raw data + baselines and convert it into a useable list of numpy arrays\n",
    "* Broadband output\n",
    "* White paper"
   ]
  },
  {
   "cell_type": "code",
   "execution_count": 5,
   "id": "2da9b0fa",
   "metadata": {
    "scrolled": false
   },
   "outputs": [
    {
     "name": "stdout",
     "output_type": "stream",
     "text": [
      "Loading in:  C:\\Spectroscopy_TrackedTissueSensing\\data\\Nov2022_skinTestData\\Beef\n",
      "Loading in:  C:\\Spectroscopy_TrackedTissueSensing\\data\\Nov2022_skinTestData\\Pork\n"
     ]
    }
   ],
   "source": [
    "# This function combines loading the data with \n",
    "def loadDataset(dataPath,start_index=790,end_index=-1,sep=','):\n",
    "    Dataset = []\n",
    "    print(\"Loading in: \", dataPath)\n",
    "    for name in os.listdir(dataPath):\n",
    "#         print(name)\n",
    "        df = pd.read_csv(os.path.join(dataPath,name), sep=sep,engine='python', header=None)\n",
    "        # trim to 360 nm\n",
    "        df = df.iloc[:, start_index:]\n",
    "        # convert to an array\n",
    "        data_arr = df.to_numpy()\n",
    "        # Sum the columns of the array\n",
    "        spectrum_arr = np.sum(data_arr[1:, 1:],axis=0)\n",
    "        # Grab the wavelength values\n",
    "        wavelength_arr = data_arr[0, 1:]\n",
    "        # Concatenate the vectors as columns\n",
    "        data_arr = np.concatenate((wavelength_arr.reshape(-1,1), spectrum_arr.reshape(-1,1)), axis=1)\n",
    "        # append to the dataset\n",
    "        Dataset.append(data_arr)\n",
    "    Dataset = np.array(Dataset,dtype='float')\n",
    "    return Dataset\n",
    "\n",
    "# LOAD IN DATA \n",
    "sampleName0 = 'Beef'\n",
    "sampleName1 = 'Pork'\n",
    "trialName = \"Nov2022_skinTestData\"\n",
    "\n",
    "# Get the path to the data\n",
    "dataPath = os.getcwd()\n",
    "dataPath0 = os.path.join(dataPath,\"data\",trialName,sampleName0)\n",
    "dataPath1 = os.path.join(dataPath,\"data\",trialName,sampleName1)\n",
    "\n",
    "# Load in the data\n",
    "data_0 = loadDataset(dataPath0,start_index=start_index, sep=',')\n",
    "labels_0 = 0*np.ones(len(data_0))\n",
    "data_1 = loadDataset(dataPath1,start_index=start_index, sep=',')\n",
    "labels_1 = 1*np.ones(len(data_1))\n",
    "\n"
   ]
  },
  {
   "cell_type": "code",
   "execution_count": 70,
   "id": "5408bfce",
   "metadata": {},
   "outputs": [
    {
     "name": "stdout",
     "output_type": "stream",
     "text": [
      "C:\\Spectroscopy_TrackedTissueSensing\\data\\March2022_raw_data\\SLS201L_Spectrum_reformatted.csv\n",
      "(2858, 2)\n",
      "Data shape (36, 2858, 2)\n",
      "0.006687616446553936\n"
     ]
    }
   ],
   "source": [
    "def loadSpectrum(path, col_name=None,start_index=774,end_index=-1,sep=';'):\n",
    "#     df = pd.read_csv(path + name,sep=';',engine='python')\n",
    "    df = pd.read_csv(path,sep=sep,engine='python')\n",
    "#     print(df)\n",
    "    if not(col_name == None):\n",
    "        df[col_name] = df.index\n",
    "    data = df[start_index:end_index]\n",
    "#     print(data)\n",
    "    data_arr = data.to_numpy()\n",
    "    data_arr = np.array(data_arr,dtype='float')\n",
    "    return data_arr\n",
    "\n",
    "# # LOAD IN BASELINES\n",
    "dataPath = os.getcwd()\n",
    "folderName = 'March2022_raw_data'\n",
    "file_name = 'white_baseline.csv'\n",
    "dataPath_Paper = os.path.join(dataPath,\"data\",folderName,file_name)\n",
    "baseline_pap = loadSpectrum(dataPath_Paper, 'Wavelength', start_index=821)\n",
    "\n",
    "dataPath = os.getcwd()\n",
    "folderName = 'March2022_raw_data'\n",
    "file_name = 'SLS201L_Spectrum_reformatted.csv'\n",
    "dataPath_BrOut = os.path.join(dataPath,\"data\",folderName,file_name)\n",
    "print(dataPath_BrOut)\n",
    "baseline_BrOut_raw = loadSpectrum(dataPath_BrOut, 'Wavelength', start_index=10, end_index=675, sep=',')\n",
    "# Interpolate such that the downloaded spectrum has the same values of the data\n",
    "x = baseline_BrOut_raw[:,0]\n",
    "y = baseline_BrOut_raw[:,1]\n",
    "f = interpolate.interp1d(x,y)\n",
    "xnew = data_0[0,:,0]\n",
    "ynew = f(xnew)\n",
    "baseline_BrOut = np.transpose(np.array([xnew,ynew]))\n",
    "print(baseline_BrOut.shape)\n",
    "print('Data shape', data_0.shape)\n",
    "print(np.min(baseline_BrOut))"
   ]
  },
  {
   "cell_type": "code",
   "execution_count": 71,
   "id": "34b3d257",
   "metadata": {},
   "outputs": [
    {
     "data": {
      "text/plain": [
       "array([[2.77669680e-03, 1.48544511e+02],\n",
       "       [2.77504039e-03, 1.41148321e+02],\n",
       "       [2.77338584e-03, 1.34453278e+02],\n",
       "       ...,\n",
       "       [9.77732187e-04, 1.01821538e+00],\n",
       "       [9.77498219e-04, 1.01974924e+00],\n",
       "       [9.77264358e-04, 1.02122369e+00]])"
      ]
     },
     "execution_count": 71,
     "metadata": {},
     "output_type": "execute_result"
    }
   ],
   "source": [
    "1/baseline_BrOut"
   ]
  },
  {
   "cell_type": "code",
   "execution_count": 7,
   "id": "0c537e85",
   "metadata": {},
   "outputs": [
    {
     "name": "stdout",
     "output_type": "stream",
     "text": [
      "360.14014912872346\n"
     ]
    },
    {
     "data": {
      "image/png": "[encoded data removed]",
      "text/plain": [
       "<Figure size 432x288 with 1 Axes>"
      ]
     },
     "metadata": {
      "needs_background": "light"
     },
     "output_type": "display_data"
    }
   ],
   "source": [
    "plt.plot(data_0[0,:,0],data_0[0,:,1])\n",
    "plt.plot(data_1[0,:,0],data_1[0,:,1])\n",
    "data_0.shape\n",
    "print(data_0[0,0,0])"
   ]
  },
  {
   "cell_type": "markdown",
   "id": "d7c74cf1",
   "metadata": {},
   "source": [
    "### Display the raw data\n",
    "* Display a pork and chicken sample\n",
    "* Display the broadband source output"
   ]
  },
  {
   "cell_type": "code",
   "execution_count": 81,
   "id": "23590877",
   "metadata": {
    "scrolled": false
   },
   "outputs": [
    {
     "data": {
      "image/png": "[encoded data removed]",
      "text/plain": [
       "<Figure size 432x288 with 1 Axes>"
      ]
     },
     "metadata": {
      "needs_background": "light"
     },
     "output_type": "display_data"
    },
    {
     "data": {
      "image/png": "[encoded data removed]",
      "text/plain": [
       "<Figure size 432x288 with 1 Axes>"
      ]
     },
     "metadata": {
      "needs_background": "light"
     },
     "output_type": "display_data"
    },
    {
     "data": {
      "image/png": "[encoded data removed]",
      "text/plain": [
       "<Figure size 432x288 with 1 Axes>"
      ]
     },
     "metadata": {
      "needs_background": "light"
     },
     "output_type": "display_data"
    }
   ],
   "source": [
    "# Displaying all of the spectra to visually inspect results\n",
    "\n",
    "# GUI.plotall(data_0)\n",
    "# GUI.plotall(data_1)\n",
    "\n",
    "# This should be in GUI with all the inputs as parameters\n",
    "wavelength_start = data_0[0,0,0]\n",
    "wavelength_end = data_0[0,-1,0]\n",
    "\n",
    "w = np.linspace(wavelength_start,wavelength_end,len(data_0[1]))\n",
    "# Display an example of data_0\n",
    "GUI.plotSpectra(xdata=data_0[0,:,0],ydata=data_0[0,:,1],xlab='Wavelength(nm)',ylab='Reflected Intensity',\n",
    "                title='Unprocessed data_0 Spectrum')\n",
    "# Display an example of data_1\n",
    "GUI.plotSpectra(xdata=data_1[0,:,0], ydata=data_1[0,:,1],xlab='Wavelength(nm)',ylab='Reflected Intensity',\n",
    "                title='Unprocessed data_1 Spectrum' )\n",
    "# # Display an example of paper\n",
    "# GUI.plotSpectra(xdata=baseline_pap[:,1],ydata=baseline_pap[:,0],xlab=\"Wavelength[nm]\",\n",
    "#             ylab='Reflected Intensity',title='baseline_pap')\n",
    "# Display an example of broadband output\n",
    "GUI.plotSpectra(xdata=baseline_BrOut[:,0],ydata=baseline_BrOut[:,1],xlab=\"Wavelength[nm]\",\n",
    "            ylab='Incident Intensity',title='baseline_BrOut')"
   ]
  },
  {
   "cell_type": "code",
   "execution_count": 9,
   "id": "effa2ce3",
   "metadata": {},
   "outputs": [],
   "source": [
    "# Find a list of the max values in the training set\n",
    "max_values = []\n",
    "for i in range(len(data_0[:,0,0])):\n",
    "    max_values.append(np.max(data_1[i,:,1]))\n",
    "# Remove all spectra with a max value less then 0.1 and more than 0.99\n",
    "# plt.plot(max_values)\n",
    "# print(max_values)\n",
    "# plt.figure()\n",
    "# plt.plot(np.transpose(data_0[:,:,1]))"
   ]
  },
  {
   "cell_type": "code",
   "execution_count": null,
   "id": "27fcf69e",
   "metadata": {},
   "outputs": [],
   "source": []
  },
  {
   "cell_type": "markdown",
   "id": "ab875077",
   "metadata": {},
   "source": [
    "### Preprocessing of the data\n",
    "* Crop to 360nm to 1024nm\n",
    "* Normalize (MinMax norm)\n",
    "* Subtract the normalized broadband output\n",
    "* Dimensionality reduction\n",
    "* Max binning?"
   ]
  },
  {
   "cell_type": "code",
   "execution_count": 90,
   "id": "73e46916",
   "metadata": {
    "scrolled": true
   },
   "outputs": [
    {
     "name": "stdout",
     "output_type": "stream",
     "text": [
      "(36, 2858, 2)\n"
     ]
    },
    {
     "name": "stderr",
     "output_type": "stream",
     "text": [
      "C:\\Users\\David\\AppData\\Local\\Temp\\ipykernel_17788\\3502403062.py:32: RuntimeWarning: divide by zero encountered in true_divide\n",
      "  relative_reflected_light = spectra / baseline\n"
     ]
    },
    {
     "data": {
      "text/plain": [
       "Text(0.5, 1.0, 'Signal with broadband transfer function removed')"
      ]
     },
     "execution_count": 90,
     "metadata": {},
     "output_type": "execute_result"
    },
    {
     "data": {
      "image/png": "[encoded data removed]",
      "text/plain": [
       "<Figure size 432x288 with 1 Axes>"
      ]
     },
     "metadata": {
      "needs_background": "light"
     },
     "output_type": "display_data"
    }
   ],
   "source": [
    "FLAG_Baseline = True\n",
    "# Load in the baseline \n",
    "baseline = baseline_BrOut # --------------------------------- flag\n",
    "# baseline = baseline_pap[:,:]\n",
    "baseline = process.normalize(baseline)[:,1]\n",
    "# plt.plot(baseline)\n",
    "\n",
    "# Normalize the spectra \n",
    "\n",
    "# If we are using the BrOut baseline subtraction\n",
    "''' \n",
    "Find the index of the max within the spectra.\n",
    "Scale spectra to the corresponding point on baseline\n",
    "Get the reflectance relative the the baseline\n",
    "    if perfect reflector then baseline should be all 1s\n",
    "\n",
    "'''\n",
    "print(data_0.shape)\n",
    "# Normalize the peak of the signal to 1. This allows us to find the proportional height above the baseline\n",
    "data_0_norm = process.normalize(data_0)\n",
    "if FLAG_Baseline:\n",
    "    # For each spectra\n",
    "    for i in range (data_0_norm[:,:,1].shape[0]):\n",
    "        # Subtract baseline\n",
    "#         spectra = data_0_norm[i,:,1]\n",
    "#         diff = spectra-baseline\n",
    "#         index = np.argmax(diff)\n",
    "#         # scale spectra such that the greatest overshoot is on the line\n",
    "#         spectra = spectra * (baseline[index]/spectra[index])\n",
    "        # Subtract baseline from the spectra\n",
    "#         relative_reflected_light = 1 - (baseline-spectra) # this doesnt really make any sense\n",
    "        relative_reflected_light = spectra / baseline\n",
    "# plt.plot(data_0_norm[35,:,1])\n",
    "# plt.plot(diff)\n",
    "# plt.plot(spectra) \n",
    "plt.plot(data_0_norm[0,:,0],relative_reflected_light)\n",
    "plt.ylim([0,1])\n",
    "plt.title('Signal with broadband transfer function removed')\n",
    "\n",
    "\n",
    "# # Normalize all data\n",
    "# data_0_norm = process.normalize(data_0)\n",
    "# data_0_saved = data_0_norm.copy()\n",
    "# print('shape:', data_0_norm.shape)\n",
    "# data_0_norm = process.subtractBaseline(data_0_norm,baseline)\n",
    "# data_0_norm = process.normalize(data_0_norm)\n",
    "\n",
    "# data_1_norm = process.normalize(data_1)\n",
    "# data_1_saved = data_1_norm.copy()\n",
    "# data_1_norm = process.subtractBaseline(data_1_norm,baseline)\n",
    "# data_1_norm = process.normalize(data_1_norm)\n",
    "\n",
    "# print('Size of data_0,', data_0_norm.shape)\n",
    "# print('Size of data_1,', data_1_norm.shape)\n"
   ]
  },
  {
   "cell_type": "code",
   "execution_count": 72,
   "id": "f679565c",
   "metadata": {},
   "outputs": [
    {
     "name": "stdout",
     "output_type": "stream",
     "text": [
      "[10, 20, 30]\n"
     ]
    }
   ],
   "source": [
    "a = [10,20,30]\n",
    "for x in a:\n",
    "    x = 0\n",
    "    \n",
    "print(a)"
   ]
  },
  {
   "cell_type": "code",
   "execution_count": 53,
   "id": "51442ca9",
   "metadata": {},
   "outputs": [
    {
     "name": "stdout",
     "output_type": "stream",
     "text": [
      "1226\n"
     ]
    },
    {
     "data": {
      "text/plain": [
       "[<matplotlib.lines.Line2D at 0x1f64173a9a0>]"
      ]
     },
     "execution_count": 53,
     "metadata": {},
     "output_type": "execute_result"
    },
    {
     "data": {
      "image/png": "[encoded data removed]",
      "text/plain": [
       "<Figure size 432x288 with 1 Axes>"
      ]
     },
     "metadata": {
      "needs_background": "light"
     },
     "output_type": "display_data"
    }
   ],
   "source": [
    "a = [10,20,30]\n",
    "np.argmax(a)\n",
    "# Normalize the signal, we want the relative height above the baseline not the absolute. \n",
    "data = data_0[0,:,:].copy()\n",
    "data = process.normalize(data)\n",
    "spectra = data[:,1]\n",
    "# spectra = data_0[0,:,1].copy()\n",
    "# find the point with the greatest overshoot of the baseline\n",
    "# plt.plot(spectra)\n",
    "# plt.plot(baseline)\n",
    "# plt.ylim([0,1])\n",
    "diff = spectra-baseline\n",
    "# plt.plot(diff)\n",
    "index = np.argmax(diff)\n",
    "print(index)\n",
    "# scale spectra such that the greatest overshoot is on the line\n",
    "spectra = spectra * (baseline[index]/spectra[index])\n",
    "\n",
    "plt.plot(spectra)"
   ]
  },
  {
   "cell_type": "code",
   "execution_count": 1,
   "id": "b9d7d7ea",
   "metadata": {},
   "outputs": [],
   "source": [
    "# plt.plot(np.transpose(data_0_norm[:,:,1]))\n",
    "# plt.plot(np.transpose(data_1_norm[:,:,1]))"
   ]
  },
  {
   "cell_type": "code",
   "execution_count": null,
   "id": "5dc29ad1",
   "metadata": {},
   "outputs": [],
   "source": [
    "# Plots of the normalized spectra\n",
    "GUI.plotSpectra(xdata=data_0_norm[0,:,0],ydata=data_0_norm[0,:,1],xlab='Wavelength(nm)',ylab='Reflected Intensity',\n",
    "                title='Normalized data_0 Spectrum' )\n",
    "GUI.plotSpectra(xdata=data_1_norm[0,:,0],ydata=data_1_norm[0,:,1],xlab='Wavelength(nm)',ylab='Reflected Intensity',\n",
    "                title='Normalized data_1 Spectrum' )"
   ]
  },
  {
   "cell_type": "code",
   "execution_count": null,
   "id": "9246a95b",
   "metadata": {
    "scrolled": false
   },
   "outputs": [],
   "source": [
    "# Plotting all of the normalized results after baseline subtraction\n",
    "# plotall(B_norm)\n",
    "# plotall(C_norm)\n",
    "# plotall(P_norm)\n",
    "# plotall(T_norm)\n",
    "\n",
    "# Plot the averages of each \n",
    "# print(B_norm.shape)\n",
    "\n",
    "# plt.figure()\n",
    "# plt.plot(np.mean(B_norm,axis=0))\n",
    "# plt.plot(np.mean(C_norm,axis=0))\n",
    "# plt.plot(np.mean(P_norm,axis=0))\n",
    "# plt.plot(np.mean(T_norm,axis=0))\n",
    "# plt.legend(['B','C','P','T'])\n",
    "# xtemp = [[1,1],[2,2],[3,3],[4,4],[5,5]]\n",
    "# np.mean(B_norm,axis=0)"
   ]
  },
  {
   "cell_type": "markdown",
   "id": "330ba9ea",
   "metadata": {},
   "source": [
    "# Training and Testing"
   ]
  },
  {
   "cell_type": "markdown",
   "id": "b2f27306",
   "metadata": {},
   "source": [
    "### Stratify data"
   ]
  },
  {
   "cell_type": "code",
   "execution_count": null,
   "id": "7bf78ac2",
   "metadata": {},
   "outputs": [],
   "source": [
    "# This function takes in the beef,chicken,pork, and turkey data\n",
    "def stratdata(class0,class1,case):\n",
    "    # Break each into \n",
    "    c0_1,c0_2,c0_3,c0_4 = chunkData6by6(class0)\n",
    "    c1_1,c1_2,c1_3,c1_4 = chunkData6by6(class1)\n",
    "    \n",
    "    d1 = np.concatenate([c0_1,c1_1])\n",
    "    d2 = np.concatenate([c0_2,c1_2])\n",
    "    d3 = np.concatenate([c0_3,c1_3])\n",
    "    d4 = np.concatenate([c0_4,c1_4])\n",
    "    \n",
    "    # implement a switch-case\n",
    "    if case == 1:\n",
    "        train = np.concatenate([d1,d2])\n",
    "        val   = d3\n",
    "        test  = d4\n",
    "    elif case == 2:\n",
    "        train = np.concatenate([d1,d3])\n",
    "        val   = d2\n",
    "        test  = d4\n",
    "    elif case == 3:\n",
    "        train = np.concatenate([d2,d3])\n",
    "        val   = d1\n",
    "        test  = d4\n",
    "    elif case == 4:\n",
    "        train = np.concatenate([d1,d2])\n",
    "        val   = d4\n",
    "        test  = d3\n",
    "    elif case == 5:\n",
    "        train = np.concatenate([d1,d4])\n",
    "        val   = d2\n",
    "        test  = d3\n",
    "    elif case == 6:\n",
    "        train = np.concatenate([d2,d4])\n",
    "        val   = d1\n",
    "        test  = d3\n",
    "    elif case == 7:\n",
    "        train = np.concatenate([d1,d4])\n",
    "        val   = d3\n",
    "        test  = d2\n",
    "    elif case == 8:\n",
    "        train = np.concatenate([d1,d3])\n",
    "        val   = d4\n",
    "        test  = d2\n",
    "    elif case == 9:\n",
    "        train = np.concatenate([d4,d3])\n",
    "        val   = d1\n",
    "        test  = d2\n",
    "    elif case == 10:\n",
    "        train = np.concatenate([d2,d4])\n",
    "        val   = d3\n",
    "        test  = d1\n",
    "    elif case == 11:\n",
    "        train = np.concatenate([d3,d4])\n",
    "        val   = d2\n",
    "        test  = d1\n",
    "    elif case == 12:\n",
    "        train = np.concatenate([d2,d3])\n",
    "        val   = d4\n",
    "        test  = d1\n",
    "    else:\n",
    "        print(\"Invalid case selected!\")\n",
    "    \n",
    "    return train,val,test\n",
    "\n",
    "# Breaks the data into 4 corner chunks\n",
    "def chunkData6by6(data):    \n",
    "    data = data.copy()\n",
    "    d1 = data[[0,1,2,6,7,8,12,13,14]]\n",
    "    d2 = data[[3,4,5,9,10,11,15,16,17]]\n",
    "    d3 = data[[18,19,20,24,25,26,30,31,32]]\n",
    "    d4 = data[[21,22,23,27,28,29,33,34,35]]\n",
    "    return d1,d2,d3,d4\n",
    "\n",
    "# This function simply breaks the data into 4 chunks based on the number of samples\n",
    "def chunkDataSimple(dataIn):\n",
    "    data = dataIn.copy()\n",
    "    # Get the length of the data\n",
    "    length = data.shape[0]\n",
    "    # Break the data into 4 chunks of equal length\n",
    "    d1 = data[0:int(length/4)]\n",
    "    d2 = data[int(length/4):int(length/2)]\n",
    "    d3 = data[int(length/2):int(3*length/4)]\n",
    "    d4 = data[int(3*length/4):length]     \n",
    "    return d1,d2,d3,d4\n",
    "    \n",
    "\n",
    "#X_train, X_val, X_test = stratdata(B_data,C_data,P_data,T_data,1)\n",
    "#y_train, y_val, y_test = stratdata(B_labels,C_labels,P_labels,T_labels,1)"
   ]
  },
  {
   "cell_type": "code",
   "execution_count": null,
   "id": "3e871c11",
   "metadata": {},
   "outputs": [],
   "source": [
    "# plt.plot(np.transpose(data_0_norm[:,:,1]))\n",
    "# plt.plot(np.transpose(data_1_norm[:,:,1]))\n",
    "\n",
    "print(data_0_norm.shape)\n",
    "print(labels_0.shape)\n",
    "print(data_1_norm.shape)\n",
    "print(labels_1.shape)\n"
   ]
  },
  {
   "cell_type": "markdown",
   "id": "2d59dd84",
   "metadata": {},
   "source": [
    "### Train ML models"
   ]
  },
  {
   "cell_type": "code",
   "execution_count": null,
   "id": "14b3417e",
   "metadata": {},
   "outputs": [],
   "source": [
    "# This is revamped to just train the classifier and save it\n",
    "import sklearn\n",
    "print(\"sklearn version: \",sklearn.__version__)\n",
    "from sklearn.neighbors import KNeighborsClassifier\n",
    "from sklearn.metrics import accuracy_score,confusion_matrix, classification_report,f1_score,roc_auc_score\n",
    "\n",
    "inferenceFlag = False \n",
    "# if the model is being trained for inference in 3D slicer, use all the data\n",
    "if inferenceFlag is True:\n",
    "    X_train = np.concatenate([data_0_norm[:,:,1],data_1_norm[:,:,1]])\n",
    "    y_train = np.concatenate([labels_0,labels_1])\n",
    "\n",
    "    # Instantiate the model\n",
    "    modelKNN = KNeighborsClassifier(n_neighbors=3)\n",
    "\n",
    "    # Train the model\n",
    "    modelKNN.fit(X_train,y_train)\n",
    "\n",
    "    # Save the model to file\n",
    "    from joblib import dump, load\n",
    "    dump(modelKNN, 'Models/KNN_faketrails.joblib') "
   ]
  },
  {
   "cell_type": "code",
   "execution_count": null,
   "id": "0839a883",
   "metadata": {},
   "outputs": [],
   "source": [
    "# GUI\n",
    "import seaborn as sns\n",
    "def fancyConfusionMatrix(cf_matrix, classifierName):\n",
    "    # ax = sns.heatmap(cf_matrix/sum(cf_matrix), annot=True, fmt='.2%',cmap='Blues')\n",
    "    ax = sns.heatmap(cf_matrix/np.sum(cf_matrix,axis=1), annot=True, cmap='Blues')\n",
    "    sns.set(font_scale=2)\n",
    "    titleFontSize = 20\n",
    "    ax.set_title(classifierName+' Confusion Matrix',fontsize=titleFontSize)\n",
    "    ax.set_xlabel('\\nPredicted Values', fontsize=titleFontSize)\n",
    "    ax.set_ylabel('Actual Values', fontsize=titleFontSize)\n",
    "\n",
    "    # Ticket labels - List must be in alphabetical order\n",
    "    tickFontSize = 16\n",
    "    ax.xaxis.set_ticklabels(['Beef', 'Pork'], fontsize=tickFontSize)\n",
    "    ax.yaxis.set_ticklabels(['Beef', 'Pork'], fontsize=tickFontSize)\n",
    "\n",
    "    # Display the visualization of the Confusion Matrix.\n",
    "    plt.show()"
   ]
  },
  {
   "cell_type": "code",
   "execution_count": null,
   "id": "b7b6f2dd",
   "metadata": {},
   "outputs": [],
   "source": [
    "cf_matrix\n",
    "np.sum(cf_matrix, axis=1)"
   ]
  },
  {
   "cell_type": "code",
   "execution_count": null,
   "id": "d3aed66a",
   "metadata": {},
   "outputs": [],
   "source": [
    "# Training of the KNN\n",
    "F1s = []\n",
    "Accs = []\n",
    "cf_matrix = 0\n",
    "\n",
    "# if the model is being tested then stratify the data into train, test, split\n",
    "if inferenceFlag is False:\n",
    "    for i in range(1,13):\n",
    "        X_train, X_val, X_test = stratdata(data_0_norm[:,:,1],data_1_norm[:,:,1],case=i)\n",
    "        y_train, y_val, y_test = stratdata(labels_0,labels_1,case=i)\n",
    "        # Combine training and validation as there is no validation\n",
    "        X_train = np.concatenate([X_train,X_val])\n",
    "        y_train = np.concatenate([y_train,y_val])\n",
    "        # Instantiate the model\n",
    "        modelKNN = KNeighborsClassifier(n_neighbors=3)\n",
    "        # Train the model\n",
    "        modelKNN.fit(X_train,y_train)\n",
    "        # Test the model\n",
    "        predicted = modelKNN.predict(X_test)       \n",
    "        F1s.append(f1_score(y_test,predicted,average='weighted'))\n",
    "        Accs.append(accuracy_score(y_test,predicted))\n",
    "        cf_matrix += confusion_matrix(y_test, predicted)\n",
    "    \n",
    "#     print(cf_matrix/sum(cf_matrix)) \n",
    "    fancyConfusionMatrix(cf_matrix,'kNN')\n",
    "    print(cf_matrix)\n",
    "#     plt.figure()\n",
    "#     plt.plot(np.transpose(X_train))\n",
    "    print('F1s', F1s)\n",
    "    print('The mean f1 score is: ',np.mean(F1s))\n",
    "    print('The mean accuracy is: ',np.mean(Accs))"
   ]
  },
  {
   "cell_type": "code",
   "execution_count": null,
   "id": "159c8ed5",
   "metadata": {},
   "outputs": [],
   "source": [
    "# Training of the SVM\n",
    "from sklearn.svm import SVC\n",
    "from sklearn.metrics import accuracy_score,confusion_matrix, classification_report,f1_score,roc_auc_score\n",
    "\n",
    "F1s = []\n",
    "Accs = []\n",
    "cf_matrix = 0\n",
    "# if the model is being tested then stratify the data into train, test, split\n",
    "if inferenceFlag is False:\n",
    "    for i in range(1,13):\n",
    "        X_train, X_val, X_test = stratdata(data_0_norm[:,:,1],data_1_norm[:,:,1],case=i)\n",
    "        y_train, y_val, y_test = stratdata(labels_0,labels_1,case=i)\n",
    "        # Combine training and validation as there is no validation\n",
    "        X_train = np.concatenate([X_train,X_val])\n",
    "        y_train = np.concatenate([y_train,y_val])\n",
    "        # Instantiate the model\n",
    "        modelSVM = SVC()\n",
    "        # Train the model\n",
    "        modelSVM.fit(X_train,y_train)\n",
    "        # Test the model\n",
    "        predicted = modelSVM.predict(X_val) \n",
    "        F1s.append(f1_score(y_test,predicted,average='weighted'))\n",
    "        Accs.append(accuracy_score(y_test,predicted))\n",
    "        cf_matrix += confusion_matrix(y_test, predicted)\n",
    "        \n",
    "    fancyConfusionMatrix(cf_matrix, 'SVM')\n",
    "#     print(cf_matrix/sum(cf_matrix))    \n",
    "#     plt.figure()\n",
    "#     plt.plot(np.transpose(X_train))\n",
    "    print('F1s', F1s)\n",
    "    print('The mean f1 score is: ',np.mean(F1s))\n",
    "    print('The mean accuracy is: ',np.mean(Accs))\n"
   ]
  },
  {
   "cell_type": "code",
   "execution_count": null,
   "id": "4cd8e6f6",
   "metadata": {
    "scrolled": true
   },
   "outputs": [],
   "source": [
    "### Used for producing SPIE figure\n",
    "\n",
    "# # load('Models/KNN_PorkVsBeefTest.joblib')\n",
    "# import seaborn as sns\n",
    "# import sklearn\n",
    "# from sklearn.neighbors import KNeighborsClassifier\n",
    "# from sklearn.metrics import accuracy_score,confusion_matrix, classification_report,f1_score,roc_auc_score\n",
    "# from random import Random\n",
    "\n",
    "# # ax = sns.heatmap(cf_matrix/sum(cf_matrix), annot=True, fmt='.2%',cmap='Blues')\n",
    "# green = 0*np.ones(223)\n",
    "# red   = 1*np.ones(191)\n",
    "# y_test = np.concatenate([green,red])\n",
    "\n",
    "# TN = 0*np.ones(205)\n",
    "# FP = 1*np.ones(18)\n",
    "# TP = 1*np.ones(182)\n",
    "# FN = 0*np.ones(9)\n",
    "# predicted = np.concatenate([TN,FP,TP,FN])\n",
    "\n",
    "# cf_matrix = confusion_matrix(y_test, predicted)\n",
    "\n",
    "# ax = sns.heatmap(cf_matrix/sum(cf_matrix), annot=True, cmap='Blues')\n",
    "# # ax = sns.heatmap(cf_matrix, annot=True, cmap='Blues')\n",
    "\n",
    "\n",
    "# # ax.set_title('kNN Confusion Matrix');\n",
    "# ax.set_xlabel('\\nPredicted Values')\n",
    "# ax.set_ylabel('Actual Values ');\n",
    "\n",
    "# ## Ticket labels - List must be in alphabetical order\n",
    "# ax.xaxis.set_ticklabels(['Pork','Beef'])\n",
    "# ax.yaxis.set_ticklabels(['Pork','Beef'])\n",
    "\n",
    "# # ax.xaxis.set_ticklabels(['False','True'])\n",
    "# # ax.yaxis.set_ticklabels(['False','True'])\n",
    "\n",
    "# ## Display the visualization of the Confusion Matrix.\n",
    "# plt.show()\n",
    "\n",
    "# plt.savefig('ConfusionMatrix_KNN_PorkVsBeefTest.png')"
   ]
  },
  {
   "cell_type": "code",
   "execution_count": null,
   "id": "ae7ca099",
   "metadata": {},
   "outputs": [],
   "source": []
  },
  {
   "cell_type": "code",
   "execution_count": null,
   "id": "78e788a8",
   "metadata": {},
   "outputs": [],
   "source": []
  },
  {
   "cell_type": "code",
   "execution_count": null,
   "id": "fc6c2907",
   "metadata": {},
   "outputs": [],
   "source": []
  }
 ],
 "metadata": {
  "kernelspec": {
   "display_name": "Python 3 (ipykernel)",
   "language": "python",
   "name": "python3"
  },
  "language_info": {
   "codemirror_mode": {
    "name": "ipython",
    "version": 3
   },
   "file_extension": ".py",
   "mimetype": "text/x-python",
   "name": "python",
   "nbconvert_exporter": "python",
   "pygments_lexer": "ipython3",
   "version": "3.8.8"
  }
 },
 "nbformat": 4,
 "nbformat_minor": 5
}
